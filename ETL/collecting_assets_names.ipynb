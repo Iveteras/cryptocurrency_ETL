{
 "cells": [
  {
   "cell_type": "code",
   "execution_count": 23,
   "metadata": {},
   "outputs": [],
   "source": [
    "import requests\n",
    "import pandas as pd\n",
    "import os\n",
    "import json\n",
    "import mysql.connector"
   ]
  },
  {
   "cell_type": "markdown",
   "metadata": {},
   "source": [
    "# COLLECTING DATA"
   ]
  },
  {
   "cell_type": "code",
   "execution_count": 24,
   "metadata": {},
   "outputs": [],
   "source": [
    "api_key = os.getenv('COINCAP')"
   ]
  },
  {
   "cell_type": "code",
   "execution_count": 25,
   "metadata": {},
   "outputs": [],
   "source": [
    "url = \"https://api.coincap.io/v2/assets\"\n",
    "\n",
    "headers = {\n",
    "    \"Authorization\": api_key,\n",
    "    \"Content-Type\": \"application/json\"\n",
    "}\n",
    "\n",
    "response = requests.get(url=url, headers=headers)"
   ]
  },
  {
   "cell_type": "code",
   "execution_count": 26,
   "metadata": {},
   "outputs": [],
   "source": [
    "response_json = json.loads(response.text)"
   ]
  },
  {
   "cell_type": "code",
   "execution_count": 27,
   "metadata": {},
   "outputs": [
    {
     "data": {
      "text/html": [
       "<div>\n",
       "<style scoped>\n",
       "    .dataframe tbody tr th:only-of-type {\n",
       "        vertical-align: middle;\n",
       "    }\n",
       "\n",
       "    .dataframe tbody tr th {\n",
       "        vertical-align: top;\n",
       "    }\n",
       "\n",
       "    .dataframe thead th {\n",
       "        text-align: right;\n",
       "    }\n",
       "</style>\n",
       "<table border=\"1\" class=\"dataframe\">\n",
       "  <thead>\n",
       "    <tr style=\"text-align: right;\">\n",
       "      <th></th>\n",
       "      <th>id</th>\n",
       "      <th>rank</th>\n",
       "      <th>symbol</th>\n",
       "      <th>name</th>\n",
       "      <th>supply</th>\n",
       "      <th>maxSupply</th>\n",
       "      <th>marketCapUsd</th>\n",
       "      <th>volumeUsd24Hr</th>\n",
       "      <th>priceUsd</th>\n",
       "      <th>changePercent24Hr</th>\n",
       "      <th>vwap24Hr</th>\n",
       "      <th>explorer</th>\n",
       "    </tr>\n",
       "  </thead>\n",
       "  <tbody>\n",
       "    <tr>\n",
       "      <th>0</th>\n",
       "      <td>bitcoin</td>\n",
       "      <td>1</td>\n",
       "      <td>BTC</td>\n",
       "      <td>Bitcoin</td>\n",
       "      <td>19629387.0000000000000000</td>\n",
       "      <td>21000000.0000000000000000</td>\n",
       "      <td>1028258023842.9507161182487283</td>\n",
       "      <td>18259967454.5224856663386622</td>\n",
       "      <td>52383.6034127275964409</td>\n",
       "      <td>0.1842850283714662</td>\n",
       "      <td>52056.4579358706336320</td>\n",
       "      <td>https://blockchain.info/</td>\n",
       "    </tr>\n",
       "    <tr>\n",
       "      <th>1</th>\n",
       "      <td>ethereum</td>\n",
       "      <td>2</td>\n",
       "      <td>ETH</td>\n",
       "      <td>Ethereum</td>\n",
       "      <td>120165596.0899642900000000</td>\n",
       "      <td>None</td>\n",
       "      <td>341804352385.8146699444355241</td>\n",
       "      <td>10057780656.3668913484317424</td>\n",
       "      <td>2844.4443626769533304</td>\n",
       "      <td>1.3016925516340193</td>\n",
       "      <td>2831.2295438622524821</td>\n",
       "      <td>https://etherscan.io/</td>\n",
       "    </tr>\n",
       "    <tr>\n",
       "      <th>2</th>\n",
       "      <td>tether</td>\n",
       "      <td>3</td>\n",
       "      <td>USDT</td>\n",
       "      <td>Tether</td>\n",
       "      <td>97116788125.7176400000000000</td>\n",
       "      <td>None</td>\n",
       "      <td>97197350540.1491441982170850</td>\n",
       "      <td>19179526928.1145048382958220</td>\n",
       "      <td>1.0008295415858195</td>\n",
       "      <td>-0.0120074888223146</td>\n",
       "      <td>1.0007774566556557</td>\n",
       "      <td>https://www.omniexplorer.info/asset/31</td>\n",
       "    </tr>\n",
       "    <tr>\n",
       "      <th>3</th>\n",
       "      <td>binance-coin</td>\n",
       "      <td>4</td>\n",
       "      <td>BNB</td>\n",
       "      <td>BNB</td>\n",
       "      <td>166801148.0000000000000000</td>\n",
       "      <td>166801148.0000000000000000</td>\n",
       "      <td>60446848583.6215701169103064</td>\n",
       "      <td>681047622.0656101265589498</td>\n",
       "      <td>362.3886844209343818</td>\n",
       "      <td>4.1005594787382146</td>\n",
       "      <td>357.6990593014604770</td>\n",
       "      <td>https://etherscan.io/token/0xB8c77482e45F1F44d...</td>\n",
       "    </tr>\n",
       "    <tr>\n",
       "      <th>4</th>\n",
       "      <td>solana</td>\n",
       "      <td>5</td>\n",
       "      <td>SOL</td>\n",
       "      <td>Solana</td>\n",
       "      <td>440507299.8164372400000000</td>\n",
       "      <td>None</td>\n",
       "      <td>49698565136.7815038669264045</td>\n",
       "      <td>717633454.4753330084926142</td>\n",
       "      <td>112.8212067257257166</td>\n",
       "      <td>-2.6748721959538936</td>\n",
       "      <td>113.7891062863362846</td>\n",
       "      <td>https://explorer.solana.com/</td>\n",
       "    </tr>\n",
       "  </tbody>\n",
       "</table>\n",
       "</div>"
      ],
      "text/plain": [
       "             id rank symbol      name                        supply  \\\n",
       "0       bitcoin    1    BTC   Bitcoin     19629387.0000000000000000   \n",
       "1      ethereum    2    ETH  Ethereum    120165596.0899642900000000   \n",
       "2        tether    3   USDT    Tether  97116788125.7176400000000000   \n",
       "3  binance-coin    4    BNB       BNB    166801148.0000000000000000   \n",
       "4        solana    5    SOL    Solana    440507299.8164372400000000   \n",
       "\n",
       "                    maxSupply                    marketCapUsd  \\\n",
       "0   21000000.0000000000000000  1028258023842.9507161182487283   \n",
       "1                        None   341804352385.8146699444355241   \n",
       "2                        None    97197350540.1491441982170850   \n",
       "3  166801148.0000000000000000    60446848583.6215701169103064   \n",
       "4                        None    49698565136.7815038669264045   \n",
       "\n",
       "                  volumeUsd24Hr                priceUsd    changePercent24Hr  \\\n",
       "0  18259967454.5224856663386622  52383.6034127275964409   0.1842850283714662   \n",
       "1  10057780656.3668913484317424   2844.4443626769533304   1.3016925516340193   \n",
       "2  19179526928.1145048382958220      1.0008295415858195  -0.0120074888223146   \n",
       "3    681047622.0656101265589498    362.3886844209343818   4.1005594787382146   \n",
       "4    717633454.4753330084926142    112.8212067257257166  -2.6748721959538936   \n",
       "\n",
       "                 vwap24Hr                                           explorer  \n",
       "0  52056.4579358706336320                           https://blockchain.info/  \n",
       "1   2831.2295438622524821                              https://etherscan.io/  \n",
       "2      1.0007774566556557             https://www.omniexplorer.info/asset/31  \n",
       "3    357.6990593014604770  https://etherscan.io/token/0xB8c77482e45F1F44d...  \n",
       "4    113.7891062863362846                       https://explorer.solana.com/  "
      ]
     },
     "execution_count": 27,
     "metadata": {},
     "output_type": "execute_result"
    }
   ],
   "source": [
    "df = pd.DataFrame(response_json['data'])\n",
    "df.head()"
   ]
  },
  {
   "cell_type": "code",
   "execution_count": 28,
   "metadata": {},
   "outputs": [
    {
     "data": {
      "text/html": [
       "<div>\n",
       "<style scoped>\n",
       "    .dataframe tbody tr th:only-of-type {\n",
       "        vertical-align: middle;\n",
       "    }\n",
       "\n",
       "    .dataframe tbody tr th {\n",
       "        vertical-align: top;\n",
       "    }\n",
       "\n",
       "    .dataframe thead th {\n",
       "        text-align: right;\n",
       "    }\n",
       "</style>\n",
       "<table border=\"1\" class=\"dataframe\">\n",
       "  <thead>\n",
       "    <tr style=\"text-align: right;\">\n",
       "      <th></th>\n",
       "      <th>id</th>\n",
       "      <th>symbol</th>\n",
       "      <th>name</th>\n",
       "      <th>explorer</th>\n",
       "    </tr>\n",
       "  </thead>\n",
       "  <tbody>\n",
       "    <tr>\n",
       "      <th>0</th>\n",
       "      <td>bitcoin</td>\n",
       "      <td>BTC</td>\n",
       "      <td>Bitcoin</td>\n",
       "      <td>https://blockchain.info/</td>\n",
       "    </tr>\n",
       "    <tr>\n",
       "      <th>1</th>\n",
       "      <td>ethereum</td>\n",
       "      <td>ETH</td>\n",
       "      <td>Ethereum</td>\n",
       "      <td>https://etherscan.io/</td>\n",
       "    </tr>\n",
       "    <tr>\n",
       "      <th>2</th>\n",
       "      <td>tether</td>\n",
       "      <td>USDT</td>\n",
       "      <td>Tether</td>\n",
       "      <td>https://www.omniexplorer.info/asset/31</td>\n",
       "    </tr>\n",
       "    <tr>\n",
       "      <th>3</th>\n",
       "      <td>binance-coin</td>\n",
       "      <td>BNB</td>\n",
       "      <td>BNB</td>\n",
       "      <td>https://etherscan.io/token/0xB8c77482e45F1F44d...</td>\n",
       "    </tr>\n",
       "    <tr>\n",
       "      <th>4</th>\n",
       "      <td>solana</td>\n",
       "      <td>SOL</td>\n",
       "      <td>Solana</td>\n",
       "      <td>https://explorer.solana.com/</td>\n",
       "    </tr>\n",
       "  </tbody>\n",
       "</table>\n",
       "</div>"
      ],
      "text/plain": [
       "             id symbol      name  \\\n",
       "0       bitcoin    BTC   Bitcoin   \n",
       "1      ethereum    ETH  Ethereum   \n",
       "2        tether   USDT    Tether   \n",
       "3  binance-coin    BNB       BNB   \n",
       "4        solana    SOL    Solana   \n",
       "\n",
       "                                            explorer  \n",
       "0                           https://blockchain.info/  \n",
       "1                              https://etherscan.io/  \n",
       "2             https://www.omniexplorer.info/asset/31  \n",
       "3  https://etherscan.io/token/0xB8c77482e45F1F44d...  \n",
       "4                       https://explorer.solana.com/  "
      ]
     },
     "execution_count": 28,
     "metadata": {},
     "output_type": "execute_result"
    }
   ],
   "source": [
    "df = df.drop(columns=['rank', 'supply', 'maxSupply', 'marketCapUsd', 'volumeUsd24Hr', 'priceUsd', 'changePercent24Hr', 'vwap24Hr'])\n",
    "df.head()"
   ]
  },
  {
   "cell_type": "code",
   "execution_count": 29,
   "metadata": {},
   "outputs": [],
   "source": [
    "new_column_names = {'id':'asset_id', 'symbol':'asset_symbol', 'name':'asset_name', 'explorer':'asset_info_link'}\n",
    "df = df.rename(columns=new_column_names)"
   ]
  },
  {
   "cell_type": "code",
   "execution_count": 30,
   "metadata": {},
   "outputs": [
    {
     "data": {
      "text/html": [
       "<div>\n",
       "<style scoped>\n",
       "    .dataframe tbody tr th:only-of-type {\n",
       "        vertical-align: middle;\n",
       "    }\n",
       "\n",
       "    .dataframe tbody tr th {\n",
       "        vertical-align: top;\n",
       "    }\n",
       "\n",
       "    .dataframe thead th {\n",
       "        text-align: right;\n",
       "    }\n",
       "</style>\n",
       "<table border=\"1\" class=\"dataframe\">\n",
       "  <thead>\n",
       "    <tr style=\"text-align: right;\">\n",
       "      <th></th>\n",
       "      <th>asset_id</th>\n",
       "      <th>asset_symbol</th>\n",
       "      <th>asset_name</th>\n",
       "      <th>asset_info_link</th>\n",
       "    </tr>\n",
       "  </thead>\n",
       "  <tbody>\n",
       "    <tr>\n",
       "      <th>0</th>\n",
       "      <td>bitcoin</td>\n",
       "      <td>BTC</td>\n",
       "      <td>Bitcoin</td>\n",
       "      <td>https://blockchain.info/</td>\n",
       "    </tr>\n",
       "    <tr>\n",
       "      <th>1</th>\n",
       "      <td>ethereum</td>\n",
       "      <td>ETH</td>\n",
       "      <td>Ethereum</td>\n",
       "      <td>https://etherscan.io/</td>\n",
       "    </tr>\n",
       "    <tr>\n",
       "      <th>2</th>\n",
       "      <td>tether</td>\n",
       "      <td>USDT</td>\n",
       "      <td>Tether</td>\n",
       "      <td>https://www.omniexplorer.info/asset/31</td>\n",
       "    </tr>\n",
       "    <tr>\n",
       "      <th>3</th>\n",
       "      <td>binance-coin</td>\n",
       "      <td>BNB</td>\n",
       "      <td>BNB</td>\n",
       "      <td>https://etherscan.io/token/0xB8c77482e45F1F44d...</td>\n",
       "    </tr>\n",
       "    <tr>\n",
       "      <th>4</th>\n",
       "      <td>solana</td>\n",
       "      <td>SOL</td>\n",
       "      <td>Solana</td>\n",
       "      <td>https://explorer.solana.com/</td>\n",
       "    </tr>\n",
       "  </tbody>\n",
       "</table>\n",
       "</div>"
      ],
      "text/plain": [
       "       asset_id asset_symbol asset_name  \\\n",
       "0       bitcoin          BTC    Bitcoin   \n",
       "1      ethereum          ETH   Ethereum   \n",
       "2        tether         USDT     Tether   \n",
       "3  binance-coin          BNB        BNB   \n",
       "4        solana          SOL     Solana   \n",
       "\n",
       "                                     asset_info_link  \n",
       "0                           https://blockchain.info/  \n",
       "1                              https://etherscan.io/  \n",
       "2             https://www.omniexplorer.info/asset/31  \n",
       "3  https://etherscan.io/token/0xB8c77482e45F1F44d...  \n",
       "4                       https://explorer.solana.com/  "
      ]
     },
     "execution_count": 30,
     "metadata": {},
     "output_type": "execute_result"
    }
   ],
   "source": [
    "df.head()"
   ]
  },
  {
   "cell_type": "markdown",
   "metadata": {},
   "source": [
    "# LOADING DATA INTO MYSQL"
   ]
  },
  {
   "cell_type": "code",
   "execution_count": 31,
   "metadata": {},
   "outputs": [],
   "source": [
    "mysql_password = os.getenv('MYSQL_PASSWORD')\n",
    "\n",
    "mysql_connection = mysql.connector.connect(\n",
    "  host = \"localhost\",\n",
    "  user = \"root\",\n",
    "  password = mysql_password,\n",
    "  database = 'cripto_infos'\n",
    ")"
   ]
  },
  {
   "cell_type": "code",
   "execution_count": 32,
   "metadata": {},
   "outputs": [],
   "source": [
    "cursor = mysql_connection.cursor()"
   ]
  },
  {
   "cell_type": "code",
   "execution_count": 33,
   "metadata": {},
   "outputs": [],
   "source": [
    "for index, row in df.iterrows():\n",
    "    data = (row['asset_id'], row['asset_symbol'], row['asset_name'], row['asset_info_link'])\n",
    "    query = \"INSERT assets (asset_id, asset_symbol, asset_name, asset_info_link) VALUES (%s, %s, %s, %s)\"\n",
    "    cursor.execute(query, data)"
   ]
  },
  {
   "cell_type": "code",
   "execution_count": 34,
   "metadata": {},
   "outputs": [],
   "source": [
    "mysql_connection.commit()\n",
    "mysql_connection.close()"
   ]
  }
 ],
 "metadata": {
  "kernelspec": {
   "display_name": "Python 3",
   "language": "python",
   "name": "python3"
  },
  "language_info": {
   "codemirror_mode": {
    "name": "ipython",
    "version": 3
   },
   "file_extension": ".py",
   "mimetype": "text/x-python",
   "name": "python",
   "nbconvert_exporter": "python",
   "pygments_lexer": "ipython3",
   "version": "3.12.1"
  }
 },
 "nbformat": 4,
 "nbformat_minor": 2
}
