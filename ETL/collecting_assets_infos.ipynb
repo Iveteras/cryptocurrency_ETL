{
 "cells": [
  {
   "cell_type": "code",
   "execution_count": 1,
   "metadata": {},
   "outputs": [],
   "source": [
    "import requests\n",
    "import pandas as pd\n",
    "import os\n",
    "import json\n",
    "from datetime import datetime\n",
    "import mysql.connector"
   ]
  },
  {
   "cell_type": "markdown",
   "metadata": {},
   "source": [
    "# Requesting assets_id list from MYSQL"
   ]
  },
  {
   "cell_type": "code",
   "execution_count": 2,
   "metadata": {},
   "outputs": [],
   "source": [
    "mysql_password = os.getenv('MYSQL_PASSWORD')\n",
    "\n",
    "mysql_connection = mysql.connector.connect(\n",
    "  host = \"localhost\",\n",
    "  user = \"root\",\n",
    "  password = mysql_password,\n",
    "  database = 'cripto_infos'\n",
    ")"
   ]
  },
  {
   "cell_type": "code",
   "execution_count": 3,
   "metadata": {},
   "outputs": [],
   "source": [
    "cursor = mysql_connection.cursor()"
   ]
  },
  {
   "cell_type": "code",
   "execution_count": 4,
   "metadata": {},
   "outputs": [],
   "source": [
    "query_select_assets = \"SELECT asset_id FROM assets\""
   ]
  },
  {
   "cell_type": "code",
   "execution_count": 5,
   "metadata": {},
   "outputs": [],
   "source": [
    "cursor.execute(query_select_assets)\n",
    "assets_tuple_list = cursor.fetchall()"
   ]
  },
  {
   "cell_type": "code",
   "execution_count": 6,
   "metadata": {},
   "outputs": [],
   "source": [
    "asset_list = []\n",
    "for asset_tuple in assets_tuple_list:\n",
    "    asset = asset_tuple[0]\n",
    "    asset_list.append(asset)"
   ]
  },
  {
   "cell_type": "code",
   "execution_count": 8,
   "metadata": {},
   "outputs": [
    {
     "data": {
      "text/plain": [
       "True"
      ]
     },
     "execution_count": 8,
     "metadata": {},
     "output_type": "execute_result"
    }
   ],
   "source": [
    "cursor.close()"
   ]
  },
  {
   "cell_type": "markdown",
   "metadata": {},
   "source": [
    "# COLLECTING DATA"
   ]
  },
  {
   "cell_type": "code",
   "execution_count": 9,
   "metadata": {},
   "outputs": [],
   "source": [
    "def find_assets_info(assets_list, api_key, url):\n",
    "    \n",
    "    json_list = []\n",
    "\n",
    "    for asset in assets_list:\n",
    "\n",
    "        # making a url for each asset\n",
    "        new_url = url + asset\n",
    "\n",
    "        # requesting data\n",
    "        headers = {\n",
    "            \"Authorization\": api_key,\n",
    "            \"Content-Type\": \"application/json\"\n",
    "        }\n",
    "        response = requests.get(url=new_url, headers=headers)\n",
    "\n",
    "        # loading json\n",
    "        response_json = json.loads(response.text)\n",
    "\n",
    "        # spliting json data\n",
    "        main_data = response_json['data']\n",
    "        time_stamp = response_json['timestamp'] / 1000.0 # dividing by 1000 because it's in microseconds\n",
    "\n",
    "        # putting the timestamp as datetime inside the main json\n",
    "        main_data['date'] = datetime.fromtimestamp(time_stamp)\n",
    "\n",
    "        # adding the json into a list\n",
    "        json_list.append(main_data)\n",
    "    \n",
    "    return json_list"
   ]
  },
  {
   "cell_type": "code",
   "execution_count": 10,
   "metadata": {},
   "outputs": [],
   "source": [
    "api_key = os.getenv('COINCAP')\n",
    "url = 'https://api.coincap.io/v2/assets/'\n",
    "\n",
    "json_list = find_assets_info(asset_list, api_key, url)"
   ]
  },
  {
   "cell_type": "code",
   "execution_count": 11,
   "metadata": {},
   "outputs": [],
   "source": [
    "df = pd.DataFrame(json_list)"
   ]
  },
  {
   "cell_type": "code",
   "execution_count": 12,
   "metadata": {},
   "outputs": [],
   "source": [
    "df = df.drop(columns=['symbol', 'name', 'maxSupply', 'marketCapUsd', 'vwap24Hr', 'explorer'])"
   ]
  },
  {
   "cell_type": "code",
   "execution_count": 13,
   "metadata": {},
   "outputs": [],
   "source": [
    "# taking away the time of date column\n",
    "df['date'] = pd.to_datetime(df['date']).dt.date"
   ]
  },
  {
   "cell_type": "code",
   "execution_count": 14,
   "metadata": {},
   "outputs": [],
   "source": [
    "# fixing data types\n",
    "df['rank'] = df['rank'].astype(int)\n",
    "df['supply'] = df['supply'].astype(float)\n",
    "df['volumeUsd24Hr'] = df['volumeUsd24Hr'].astype(float)\n",
    "df['priceUsd'] = df['priceUsd'].astype(float)\n",
    "df['changePercent24Hr'] = df['changePercent24Hr'].astype(float)"
   ]
  },
  {
   "cell_type": "code",
   "execution_count": 16,
   "metadata": {},
   "outputs": [],
   "source": [
    "new_column_names = {'id':'asset_id', 'rank':'rank_of_day', 'volumeUsd24Hr':'volume_trading_usd', 'priceUsd':'price', 'changePercent24Hr':'per_price_change', 'date':'date_d'}"
   ]
  },
  {
   "cell_type": "code",
   "execution_count": 17,
   "metadata": {},
   "outputs": [],
   "source": [
    "df = df.rename(columns=new_column_names)"
   ]
  },
  {
   "cell_type": "markdown",
   "metadata": {},
   "source": [
    "# LOADING DATA INTO MYSQL"
   ]
  },
  {
   "cell_type": "code",
   "execution_count": 19,
   "metadata": {},
   "outputs": [],
   "source": [
    "cursor = mysql_connection.cursor()"
   ]
  },
  {
   "cell_type": "code",
   "execution_count": 22,
   "metadata": {},
   "outputs": [],
   "source": [
    "for index, row in df.iterrows():\n",
    "    data = (row['asset_id'], row['rank_of_day'], row['supply'], row['volume_trading_usd'], row['price'], row['per_price_change'], row['date_d'])\n",
    "\n",
    "    query = '''\n",
    "    INSERT infos (asset_id, rank_of_day, supply, volume_trading_usd, price, per_price_change, date_d)\n",
    "\n",
    "    VALUES (%s, %s, %s, %s, %s, %s, %s)'''\n",
    "\n",
    "    cursor.execute(query, data)"
   ]
  },
  {
   "cell_type": "code",
   "execution_count": 23,
   "metadata": {},
   "outputs": [],
   "source": [
    "mysql_connection.commit()\n",
    "mysql_connection.close()"
   ]
  }
 ],
 "metadata": {
  "kernelspec": {
   "display_name": "Python 3",
   "language": "python",
   "name": "python3"
  },
  "language_info": {
   "codemirror_mode": {
    "name": "ipython",
    "version": 3
   },
   "file_extension": ".py",
   "mimetype": "text/x-python",
   "name": "python",
   "nbconvert_exporter": "python",
   "pygments_lexer": "ipython3",
   "version": "3.12.1"
  }
 },
 "nbformat": 4,
 "nbformat_minor": 2
}
